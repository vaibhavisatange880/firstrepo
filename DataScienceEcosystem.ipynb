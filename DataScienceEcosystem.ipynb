{
 "cells": [
  {
   "cell_type": "markdown",
   "id": "306c532f-9451-4c94-abbb-300bb85a28b6",
   "metadata": {},
   "source": [
    "# Data Science Tools and Ecosystem"
   ]
  },
  {
   "cell_type": "markdown",
   "id": "4cdab3e9-99a1-4b4f-ba42-0bd8ececbe7a",
   "metadata": {},
   "source": [
    "In this notebook, Data Science Tools and Ecosystem are summarized."
   ]
  },
  {
   "cell_type": "markdown",
   "id": "c7835dbd-6c83-4fb0-9509-5e7e6ef3a4fb",
   "metadata": {},
   "source": [
    "Some of the popular languages that data scientists use are-\n",
    "1. Python\n",
    "2. R\n",
    "3. Java\n",
    "4. SQL"
   ]
  },
  {
   "cell_type": "markdown",
   "id": "72b427f6-b597-4f67-8bfd-6bf3763a5b8f",
   "metadata": {},
   "source": [
    "Some of the commonly used libraries used by Data Scientists include: \n",
    "1. Pandas \n",
    "2. Keras \n",
    "3. Scikit-learn \n",
    "4. Matplotlib \n",
    "5. Numpy\n",
    "6. PyTorch \n",
    "7. TensorFlow"
   ]
  },
  {
   "cell_type": "markdown",
   "id": "eff5e5b1-e8d1-4ec4-a2b5-22d3981f9b36",
   "metadata": {},
   "source": [
    "| Data Science Tools | \n",
    "| --- |\n",
    "| Jupyter Notebook |\n",
    "| Apache Spark |\n",
    "| Apache Hadoop |"
   ]
  },
  {
   "cell_type": "markdown",
   "id": "73cab80e-bc43-4de8-932d-82c79578eff2",
   "metadata": {},
   "source": [
    "### Below are a few examples of evaluating arithmetic expressions in Python"
   ]
  },
  {
   "cell_type": "code",
   "execution_count": 3,
   "id": "09df3aac-367d-4290-bc2a-7a1201778c8a",
   "metadata": {
    "tags": []
   },
   "outputs": [
    {
     "data": {
      "text/plain": [
       "17"
      ]
     },
     "execution_count": 3,
     "metadata": {},
     "output_type": "execute_result"
    }
   ],
   "source": [
    "#This a simple arithmetic expression to mutiply then add integers\n",
    "(3*4)+5"
   ]
  },
  {
   "cell_type": "code",
   "execution_count": 4,
   "id": "60a796d3-dc84-43f3-9302-644f77d33526",
   "metadata": {
    "tags": []
   },
   "outputs": [
    {
     "name": "stdout",
     "output_type": "stream",
     "text": [
      "3.3333333333333335\n"
     ]
    }
   ],
   "source": [
    "#This will convert 200 minutes to hours by diving by 60.\n",
    "hrs=200/60\n",
    "print(hrs)"
   ]
  },
  {
   "cell_type": "markdown",
   "id": "fad12099-9a30-40b6-8f4f-81fc0b63480a",
   "metadata": {},
   "source": [
    "List popular languages for Data Science\n",
    "- Python\n",
    "- R\n",
    "- Scala\n",
    "- Julia\n",
    "- Java\n",
    "- SQL\n",
    "- C++\n"
   ]
  },
  {
   "cell_type": "markdown",
   "id": "16c722ac-11ba-4b91-94e1-cf919744fff5",
   "metadata": {},
   "source": [
    "## Author\n",
    " Vaibhavi Satange\n"
   ]
  },
  {
   "cell_type": "code",
   "execution_count": null,
   "id": "bf84beef-b9c7-4439-ac98-60835cbd5684",
   "metadata": {},
   "outputs": [],
   "source": []
  }
 ],
 "metadata": {
  "kernelspec": {
   "display_name": "Python",
   "language": "python",
   "name": "conda-env-python-py"
  },
  "language_info": {
   "codemirror_mode": {
    "name": "ipython",
    "version": 3
   },
   "file_extension": ".py",
   "mimetype": "text/x-python",
   "name": "python",
   "nbconvert_exporter": "python",
   "pygments_lexer": "ipython3",
   "version": "3.7.12"
  }
 },
 "nbformat": 4,
 "nbformat_minor": 5
}
